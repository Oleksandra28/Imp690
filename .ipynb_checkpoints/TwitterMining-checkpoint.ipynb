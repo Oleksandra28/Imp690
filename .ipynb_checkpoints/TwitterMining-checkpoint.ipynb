{
 "cells": [
  {
   "cell_type": "markdown",
   "metadata": {},
   "source": [
    "# Data preprocessing"
   ]
  },
  {
   "cell_type": "code",
   "execution_count": 21,
   "metadata": {
    "collapsed": false
   },
   "outputs": [
    {
     "name": "stdout",
     "output_type": "stream",
     "text": [
      "len of datafile: 10008\n"
     ]
    }
   ],
   "source": [
    "#1. Read tweets \n",
    "import csv\n",
    "from nltk.tokenize import word_tokenize\n",
    "\n",
    "disaster_file = \"2012_Sandy_Hurricane-ontopic_offtopic.csv\"\n",
    "\n",
    "with open(disaster_file, 'rb') as csvfile:\n",
    "    reader = csv.DictReader(csvfile)\n",
    "    disaster_data = list(reader)\n",
    "    disaster_header = reader.fieldnames\n",
    "\n",
    "initial_datafile_len = len(disaster_data)\n",
    "print \"len of datafile:\", initial_datafile_len\n",
    "disaster_header = ['tweet id', 'tweet', 'label']\n",
    "# remove spaces in header labels\n",
    "for row in disaster_data:\n",
    "    row['tweet'] = row[' tweet']\n",
    "    del[row[' tweet']]\n",
    "    row['label'] = row[' label']\n",
    "    del[row[' label']]\n",
    "assert( initial_datafile_len == len(disaster_data) )"
   ]
  },
  {
   "cell_type": "code",
   "execution_count": 22,
   "metadata": {
    "collapsed": false
   },
   "outputs": [],
   "source": [
    "# 2. Process tweets: Remove non-printable, ASCII characters \n",
    "\n",
    "import re\n",
    "\n",
    "emoticons_str = r\"\"\"\n",
    "    (?:\n",
    "        [:=;] # Eyes\n",
    "        [oO\\-]? # Nose (optional)\n",
    "        [D\\)\\]\\(\\]/\\\\OpP] # Mouth\n",
    "    )\"\"\"\n",
    " \n",
    "regex_str = [\n",
    "    emoticons_str,\n",
    "    r'<[^>]+>', # HTML tags\n",
    "    r'(?:@[\\w_]+)', # @-mentions\n",
    "    r\"(?:\\#+[\\w_]+[\\w\\'_\\-]*[\\w_]+)\", # hash-tags\n",
    "    r'http[s]?://(?:[a-z]|[0-9]|[$-_@.&+]|[!*\\(\\),]|(?:%[0-9a-f][0-9a-f]))+', # URLs\n",
    " \n",
    "    r'(?:(?:\\d+,?)+(?:\\.?\\d+)?)', # numbers\n",
    "    r\"(?:[a-z][a-z'\\-_]+[a-z])\", # words with - and '\n",
    "    r'(?:[\\w_]+)', # other words\n",
    "    r'(?:\\S)' # anything else\n",
    "]\n",
    "    \n",
    "tokens_re = re.compile(r'('+'|'.join(regex_str)+')', re.VERBOSE | re.IGNORECASE)\n",
    "emoticon_re = re.compile(r'^'+emoticons_str+'$', re.VERBOSE | re.IGNORECASE)\n",
    "\n",
    "# v2\n",
    "def tokenise(tweet):\n",
    "    # Expand \"'ve\"\n",
    "    tweet = re.sub(r\"(?i)(\\w)'ve\\b\", r'\\1 have', tweet)\n",
    "    # Separate punctuation from words\n",
    "    tweet = re.sub(r'\\b', ' ', tweet)\n",
    "    # Remove isolated, single-character punctuation,\n",
    "    # and articles (a, an, the)\n",
    "    tweet = re.sub(r'(^|\\s)([.;:]|[Aa]n|a|[Tt]he)($|\\s)', r'\\1\\3', tweet)    \n",
    "    # Split into non-empty strings\n",
    "    return filter(bool, re.split(r'\\s+', tweet))\n",
    " \n",
    "def get_tokens(s, lowercase=False):\n",
    "    tokens = tokens_re.findall(s) \n",
    "    #if lowercase:\n",
    "    tokens = [token if emoticon_re.search(token) else token.lower() for token in tokens]\n",
    "    return tokens\n",
    "\n",
    "def remove_junk_symbols(tweet):\n",
    "    articles = {'a', 'the'}\n",
    "    non_readable = {'RT', '&', '&amp;', '@', ',', 'amp', ';'}\n",
    "    \n",
    "    for token in tweet:\n",
    "        if (token in articles) or (token in non_readable):\n",
    "            tweet.remove(token)\n",
    "    return tweet\n",
    "    \n",
    "def preprocess(tweet):\n",
    "    tweet = get_tokens(tweet) # v1 text mining\n",
    "    #final_tweet = tokenise(tweet) #v2\n",
    "    tweet = remove_junk_symbols(tweet)\n",
    "    \n",
    "    return final_tweet"
   ]
  },
  {
   "cell_type": "code",
   "execution_count": 23,
   "metadata": {
    "collapsed": false,
    "scrolled": true
   },
   "outputs": [
    {
     "name": "stdout",
     "output_type": "stream",
     "text": [
      "len(preprocessed_disaster_data): 10008\n"
     ]
    }
   ],
   "source": [
    "import datetime\n",
    "\n",
    "preprocessed_disaster_data = list()\n",
    "for row in disaster_data:\n",
    "    preprocessed_tweet = preprocess(row['tweet'])\n",
    "    if len(preprocessed_tweet) != 0:\n",
    "        new_row = {'tweet id': row['tweet id'], \n",
    "                   'tweet': preprocessed_tweet,\n",
    "                   'label': row['label']}\n",
    "        preprocessed_disaster_data.append(new_row) \n",
    "\n",
    "print \"len(preprocessed_disaster_data):\", len(preprocessed_disaster_data)\n",
    "\n",
    "import datetime\n",
    "now = datetime.datetime.now().strftime(\"%Y-%m-%d %H%M\")\n",
    "\n",
    "preprocessed_disaster_file = str(now) + \"_Preprocessed_\"+disaster_file\n",
    "with open(preprocessed_disaster_file, 'wb') as f:\n",
    "    writer = csv.DictWriter(f, fieldnames=disaster_header)\n",
    "    # show the header fields\n",
    "    writer.writeheader()\n",
    "    writer.writerows(preprocessed_disaster_data)"
   ]
  },
  {
   "cell_type": "code",
   "execution_count": null,
   "metadata": {
    "collapsed": true
   },
   "outputs": [],
   "source": []
  },
  {
   "cell_type": "code",
   "execution_count": null,
   "metadata": {
    "collapsed": true
   },
   "outputs": [],
   "source": []
  }
 ],
 "metadata": {
  "kernelspec": {
   "display_name": "Python 2",
   "language": "python",
   "name": "python2"
  },
  "language_info": {
   "codemirror_mode": {
    "name": "ipython",
    "version": 2
   },
   "file_extension": ".py",
   "mimetype": "text/x-python",
   "name": "python",
   "nbconvert_exporter": "python",
   "pygments_lexer": "ipython2",
   "version": "2.7.10"
  }
 },
 "nbformat": 4,
 "nbformat_minor": 0
}
